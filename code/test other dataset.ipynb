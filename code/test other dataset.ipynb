{
 "cells": [
  {
   "cell_type": "markdown",
   "metadata": {},
   "source": [
    "test other dataset"
   ]
  },
  {
   "cell_type": "code",
   "execution_count": 1,
   "metadata": {},
   "outputs": [],
   "source": [
    "from autogluon.tabular import TabularDataset, TabularPredictor\n",
    "import numpy as np\n",
    "from sklearn.model_selection import train_test_split\n",
    "import pandas as pd"
   ]
  },
  {
   "cell_type": "code",
   "execution_count": 2,
   "metadata": {},
   "outputs": [],
   "source": [
    "save_path = 'antisa_new'\n",
    "predictor = TabularPredictor.load(save_path) "
   ]
  },
  {
   "cell_type": "code",
   "execution_count": 3,
   "metadata": {},
   "outputs": [
    {
     "name": "stderr",
     "output_type": "stream",
     "text": [
      "\n",
      "Bad key \"text.kerning_factor\" on line 4 in\n",
      "F:\\anaconda\\install\\lib\\site-packages\\matplotlib\\mpl-data\\stylelib\\_classic_test_patch.mplstyle.\n",
      "You probably need to get an updated matplotlibrc file from\n",
      "https://github.com/matplotlib/matplotlib/blob/v3.1.3/matplotlibrc.template\n",
      "or from the matplotlib source distribution\n"
     ]
    },
    {
     "name": "stdout",
     "output_type": "stream",
     "text": [
      "             1         2         3\n",
      "0     0.160633  0.092148  0.747219\n",
      "1     0.162916  0.094875  0.742209\n",
      "2     0.109074  0.107722  0.783204\n",
      "3     0.207956  0.138704  0.653340\n",
      "4     0.144094  0.094022  0.761884\n",
      "...        ...       ...       ...\n",
      "1295  0.341272  0.379440  0.279288\n",
      "1296  0.319036  0.220923  0.460041\n",
      "1297  0.101816  0.096638  0.801546\n",
      "1298  0.139108  0.111648  0.749244\n",
      "1299  0.178580  0.138810  0.682609\n",
      "\n",
      "[1300 rows x 3 columns]\n"
     ]
    }
   ],
   "source": [
    "antidata_neg = TabularDataset('neg_dataset.csv')\n",
    "y_pred_neg= predictor.predict(antidata_neg)\n",
    "percent_neg=predictor.predict_proba(antidata_neg)\n",
    "y_pred_neg.to_csv('pred_neg.csv',sep=',',index=True,header=True)\n",
    "print(percent_neg)"
   ]
  },
  {
   "cell_type": "code",
   "execution_count": 6,
   "metadata": {},
   "outputs": [
    {
     "name": "stdout",
     "output_type": "stream",
     "text": [
      "0       3\n",
      "1       3\n",
      "2       3\n",
      "3       3\n",
      "4       3\n",
      "       ..\n",
      "1295    2\n",
      "1296    3\n",
      "1297    3\n",
      "1298    3\n",
      "1299    3\n",
      "Name: Label, Length: 1300, dtype: int64\n",
      "precent: 98.0 %\n"
     ]
    }
   ],
   "source": [
    "print(y_pred_neg)\n",
    "print('precent:',round((sum(y_pred_neg)/3900)*100,1),'%')"
   ]
  },
  {
   "cell_type": "code",
   "execution_count": 5,
   "metadata": {},
   "outputs": [
    {
     "name": "stdout",
     "output_type": "stream",
     "text": [
      "0     1\n",
      "1     1\n",
      "2     1\n",
      "3     1\n",
      "4     1\n",
      "5     1\n",
      "6     1\n",
      "7     1\n",
      "8     1\n",
      "9     1\n",
      "10    1\n",
      "11    1\n",
      "12    1\n",
      "13    1\n",
      "14    1\n",
      "15    1\n",
      "16    1\n",
      "17    1\n",
      "18    1\n",
      "Name: Label, dtype: int64\n",
      "           1         2         3\n",
      "0   0.458008  0.258458  0.283534\n",
      "1   0.541911  0.310888  0.147201\n",
      "2   0.439683  0.412030  0.148287\n",
      "3   0.601709  0.240678  0.157613\n",
      "4   0.465629  0.374720  0.159651\n",
      "5   0.544345  0.280084  0.175570\n",
      "6   0.429858  0.369597  0.200545\n",
      "7   0.554847  0.291367  0.153786\n",
      "8   0.463285  0.245062  0.291653\n",
      "9   0.564605  0.277142  0.158253\n",
      "10  0.514481  0.303324  0.182194\n",
      "11  0.453030  0.337195  0.209776\n",
      "12  0.431320  0.373390  0.195289\n",
      "13  0.476152  0.344700  0.179148\n",
      "14  0.478725  0.370938  0.150337\n",
      "15  0.494515  0.296636  0.208848\n",
      "16  0.544528  0.288026  0.167446\n",
      "17  0.570679  0.240927  0.188394\n",
      "18  0.477198  0.346508  0.176293\n"
     ]
    }
   ],
   "source": [
    "assaydata = TabularDataset('Sa_seq-feature.csv')\n",
    "assay_pred= predictor.predict(assaydata)\n",
    "assay_pro=predictor.predict_proba(assaydata)\n",
    "print(assay_pred)\n",
    "print(assay_pro)"
   ]
  }
 ],
 "metadata": {
  "kernelspec": {
   "display_name": "Python 3",
   "language": "python",
   "name": "python3"
  },
  "language_info": {
   "codemirror_mode": {
    "name": "ipython",
    "version": 3
   },
   "file_extension": ".py",
   "mimetype": "text/x-python",
   "name": "python",
   "nbconvert_exporter": "python",
   "pygments_lexer": "ipython3",
   "version": "3.7.6"
  }
 },
 "nbformat": 4,
 "nbformat_minor": 4
}
